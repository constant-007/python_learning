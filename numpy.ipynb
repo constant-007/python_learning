{
 "cells": [
  {
   "cell_type": "markdown",
   "metadata": {},
   "source": [
    "# python numpy学习\n",
    "\n",
    "大苏打"
   ]
  }
 ],
 "metadata": {
  "kernelspec": {
   "display_name": "Python 3.9.7 ('base')",
   "language": "python",
   "name": "python3"
  },
  "language_info": {
   "name": "python",
   "version": "3.9.7"
  },
  "orig_nbformat": 4,
  "vscode": {
   "interpreter": {
    "hash": "09f08c1c4a467fe0106beaeade12c7d40c5247510e0c0d222e1b4bbc7079883a"
   }
  }
 },
 "nbformat": 4,
 "nbformat_minor": 2
}
